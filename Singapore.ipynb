{
  "nbformat": 4,
  "nbformat_minor": 0,
  "metadata": {
    "colab": {
      "name": "Singapore.ipynb",
      "version": "0.3.2",
      "provenance": [],
      "include_colab_link": true
    },
    "kernelspec": {
      "name": "python3",
      "display_name": "Python 3"
    }
  },
  "cells": [
    {
      "cell_type": "markdown",
      "metadata": {
        "id": "view-in-github",
        "colab_type": "text"
      },
      "source": [
        "<a href=\"https://colab.research.google.com/github/amit-kumar9766/Deeplearning.ai/blob/master/Singapore.ipynb\" target=\"_parent\"><img src=\"https://colab.research.google.com/assets/colab-badge.svg\" alt=\"Open In Colab\"/></a>"
      ]
    },
    {
      "cell_type": "code",
      "metadata": {
        "id": "JcjOC8m0n2C-",
        "colab_type": "code",
        "colab": {
          "resources": {
            "http://localhost:8080/nbextensions/google.colab/files.js": {
              "data": "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",
              "ok": true,
              "headers": [
                [
                  "content-type",
                  "application/javascript"
                ]
              ],
              "status": 200,
              "status_text": ""
            }
          },
          "base_uri": "https://localhost:8080/",
          "height": 91
        },
        "outputId": "097cbfc9-49c0-423b-c079-32293164a65a"
      },
      "source": [
        "from google.colab import files\n",
        "import io\n",
        "import pickle\n",
        "\n",
        "uploaded = files.upload()\n",
        "\n",
        "for fn in uploaded.keys():\n",
        "  print('User uploaded file \"{name}\" with length {length} bytes'.format(\n",
        "      name=fn, length=len(uploaded[fn])))\n"
      ],
      "execution_count": 4,
      "outputs": [
        {
          "output_type": "display_data",
          "data": {
            "text/html": [
              "\n",
              "     <input type=\"file\" id=\"files-cb6e5803-67e2-44e7-a976-7754967b0373\" name=\"files[]\" multiple disabled />\n",
              "     <output id=\"result-cb6e5803-67e2-44e7-a976-7754967b0373\">\n",
              "      Upload widget is only available when the cell has been executed in the\n",
              "      current browser session. Please rerun this cell to enable.\n",
              "      </output>\n",
              "      <script src=\"/nbextensions/google.colab/files.js\"></script> "
            ],
            "text/plain": [
              "<IPython.core.display.HTML object>"
            ]
          },
          "metadata": {
            "tags": []
          }
        },
        {
          "output_type": "stream",
          "text": [
            "Saving singapore-residents-by-age-group-ethnic-group-and-sex-end-june-annual.csv to singapore-residents-by-age-group-ethnic-group-and-sex-end-june-annual.csv\n",
            "User uploaded file \"singapore-residents-by-age-group-ethnic-group-and-sex-end-june-annual.csv\" with length 942898 bytes\n"
          ],
          "name": "stdout"
        }
      ]
    },
    {
      "cell_type": "code",
      "metadata": {
        "id": "96McTrQwn7-8",
        "colab_type": "code",
        "colab": {}
      },
      "source": [
        "import pandas as pd\n",
        "df=pd.read_csv('singapore-residents-by-age-group-ethnic-group-and-sex-end-june-annual.csv')"
      ],
      "execution_count": 0,
      "outputs": []
    },
    {
      "cell_type": "code",
      "metadata": {
        "id": "71zCOfaSoWOJ",
        "colab_type": "code",
        "colab": {
          "base_uri": "https://localhost:8080/",
          "height": 204
        },
        "outputId": "3126800a-30e0-458a-cb88-20da311da0c7"
      },
      "source": [
        "df.head()"
      ],
      "execution_count": 6,
      "outputs": [
        {
          "output_type": "execute_result",
          "data": {
            "text/html": [
              "<div>\n",
              "<style scoped>\n",
              "    .dataframe tbody tr th:only-of-type {\n",
              "        vertical-align: middle;\n",
              "    }\n",
              "\n",
              "    .dataframe tbody tr th {\n",
              "        vertical-align: top;\n",
              "    }\n",
              "\n",
              "    .dataframe thead th {\n",
              "        text-align: right;\n",
              "    }\n",
              "</style>\n",
              "<table border=\"1\" class=\"dataframe\">\n",
              "  <thead>\n",
              "    <tr style=\"text-align: right;\">\n",
              "      <th></th>\n",
              "      <th>year</th>\n",
              "      <th>level_1</th>\n",
              "      <th>level_2</th>\n",
              "      <th>value</th>\n",
              "    </tr>\n",
              "  </thead>\n",
              "  <tbody>\n",
              "    <tr>\n",
              "      <th>0</th>\n",
              "      <td>1957</td>\n",
              "      <td>Total Residents</td>\n",
              "      <td>0  -  4 Years</td>\n",
              "      <td>264727</td>\n",
              "    </tr>\n",
              "    <tr>\n",
              "      <th>1</th>\n",
              "      <td>1957</td>\n",
              "      <td>Total Residents</td>\n",
              "      <td>5  -  9 Years</td>\n",
              "      <td>218097</td>\n",
              "    </tr>\n",
              "    <tr>\n",
              "      <th>2</th>\n",
              "      <td>1957</td>\n",
              "      <td>Total Residents</td>\n",
              "      <td>10 - 14 Years</td>\n",
              "      <td>136280</td>\n",
              "    </tr>\n",
              "    <tr>\n",
              "      <th>3</th>\n",
              "      <td>1957</td>\n",
              "      <td>Total Residents</td>\n",
              "      <td>15 - 19 Years</td>\n",
              "      <td>135679</td>\n",
              "    </tr>\n",
              "    <tr>\n",
              "      <th>4</th>\n",
              "      <td>1957</td>\n",
              "      <td>Total Residents</td>\n",
              "      <td>20 - 24 Years</td>\n",
              "      <td>119266</td>\n",
              "    </tr>\n",
              "  </tbody>\n",
              "</table>\n",
              "</div>"
            ],
            "text/plain": [
              "   year          level_1        level_2   value\n",
              "0  1957  Total Residents  0  -  4 Years  264727\n",
              "1  1957  Total Residents  5  -  9 Years  218097\n",
              "2  1957  Total Residents  10 - 14 Years  136280\n",
              "3  1957  Total Residents  15 - 19 Years  135679\n",
              "4  1957  Total Residents  20 - 24 Years  119266"
            ]
          },
          "metadata": {
            "tags": []
          },
          "execution_count": 6
        }
      ]
    },
    {
      "cell_type": "code",
      "metadata": {
        "id": "WiNw7iA7oZLH",
        "colab_type": "code",
        "colab": {}
      },
      "source": [
        "#Largest ethnic group in Singapore"
      ],
      "execution_count": 0,
      "outputs": []
    },
    {
      "cell_type": "code",
      "metadata": {
        "id": "FqAImajfbjTJ",
        "colab_type": "code",
        "colab": {
          "base_uri": "https://localhost:8080/",
          "height": 102
        },
        "outputId": "df64d32f-ca29-46c3-f2fd-8663e3f825e5"
      },
      "source": [
        "df.dtypes"
      ],
      "execution_count": 7,
      "outputs": [
        {
          "output_type": "execute_result",
          "data": {
            "text/plain": [
              "year        int64\n",
              "level_1    object\n",
              "level_2    object\n",
              "value      object\n",
              "dtype: object"
            ]
          },
          "metadata": {
            "tags": []
          },
          "execution_count": 7
        }
      ]
    },
    {
      "cell_type": "code",
      "metadata": {
        "id": "vDvcFBRJpnk5",
        "colab_type": "code",
        "colab": {}
      },
      "source": [
        "df['value'] = df['value'].apply(pd.to_numeric, errors='coerce')"
      ],
      "execution_count": 0,
      "outputs": []
    },
    {
      "cell_type": "code",
      "metadata": {
        "id": "aeNa8PTkoh-I",
        "colab_type": "code",
        "colab": {}
      },
      "source": [
        "A=df.groupby('level_1') [\"value\"].sum()\n"
      ],
      "execution_count": 0,
      "outputs": []
    },
    {
      "cell_type": "code",
      "metadata": {
        "id": "Xhs3oIuCy1k-",
        "colab_type": "code",
        "colab": {
          "base_uri": "https://localhost:8080/",
          "height": 306
        },
        "outputId": "531c290e-5d8e-490f-a512-cf4cae6e5e3a"
      },
      "source": [
        "A# not adding just writing the nos after nos"
      ],
      "execution_count": 10,
      "outputs": [
        {
          "output_type": "execute_result",
          "data": {
            "text/plain": [
              "level_1\n",
              "Other Ethnic Groups (Females)      1886349.0\n",
              "Other Ethnic Groups (Males)        1753101.0\n",
              "Other Ethnic Groups (Total)        3639417.0\n",
              "Total Chinese                    148157861.0\n",
              "Total Female Chinese              75942931.0\n",
              "Total Female Indians               6528837.0\n",
              "Total Female Malays               12809553.0\n",
              "Total Female Residents            97167570.0\n",
              "Total Indians                     14563406.0\n",
              "Total Malays                      25814830.0\n",
              "Total Male Chinese                72214945.0\n",
              "Total Male Indians                 8034588.0\n",
              "Total Male Malays                 13005325.0\n",
              "Total Male Residents              95007879.0\n",
              "Total Residents                  192175418.0\n",
              "Name: value, dtype: float64"
            ]
          },
          "metadata": {
            "tags": []
          },
          "execution_count": 10
        }
      ]
    },
    {
      "cell_type": "code",
      "metadata": {
        "id": "1qMXHJhNyj4n",
        "colab_type": "code",
        "colab": {
          "base_uri": "https://localhost:8080/",
          "height": 306
        },
        "outputId": "f56d2362-6643-409c-9372-dadfac67281b"
      },
      "source": [
        "A=A.sort_values(kind='mergesort')\n",
        "print(A)"
      ],
      "execution_count": 11,
      "outputs": [
        {
          "output_type": "stream",
          "text": [
            "level_1\n",
            "Other Ethnic Groups (Males)        1753101.0\n",
            "Other Ethnic Groups (Females)      1886349.0\n",
            "Other Ethnic Groups (Total)        3639417.0\n",
            "Total Female Indians               6528837.0\n",
            "Total Male Indians                 8034588.0\n",
            "Total Female Malays               12809553.0\n",
            "Total Male Malays                 13005325.0\n",
            "Total Indians                     14563406.0\n",
            "Total Malays                      25814830.0\n",
            "Total Male Chinese                72214945.0\n",
            "Total Female Chinese              75942931.0\n",
            "Total Male Residents              95007879.0\n",
            "Total Female Residents            97167570.0\n",
            "Total Chinese                    148157861.0\n",
            "Total Residents                  192175418.0\n",
            "Name: value, dtype: float64\n"
          ],
          "name": "stdout"
        }
      ]
    },
    {
      "cell_type": "code",
      "metadata": {
        "id": "jB8RLGpYExrX",
        "colab_type": "code",
        "colab": {
          "base_uri": "https://localhost:8080/",
          "height": 34
        },
        "outputId": "4908d433-9f3e-4206-da47-8cf04fb45b70"
      },
      "source": [
        "A.sum()\n"
      ],
      "execution_count": 175,
      "outputs": [
        {
          "output_type": "execute_result",
          "data": {
            "text/plain": [
              "768702010.0"
            ]
          },
          "metadata": {
            "tags": []
          },
          "execution_count": 175
        }
      ]
    },
    {
      "cell_type": "code",
      "metadata": {
        "id": "FscRKMesE7bn",
        "colab_type": "code",
        "colab": {
          "base_uri": "https://localhost:8080/",
          "height": 34
        },
        "outputId": "c925150e-b247-4f0a-89a0-6ebeca60a0f6"
      },
      "source": [
        "percent=(192175418.0/768702010.0)\n",
        "percent"
      ],
      "execution_count": 12,
      "outputs": [
        {
          "output_type": "execute_result",
          "data": {
            "text/plain": [
              "0.2499998900744386"
            ]
          },
          "metadata": {
            "tags": []
          },
          "execution_count": 12
        }
      ]
    },
    {
      "cell_type": "code",
      "metadata": {
        "id": "4WoFsdv_DySt",
        "colab_type": "code",
        "colab": {}
      },
      "source": [
        "#Total Residents is the largest ethnic group and they compromise about 25%"
      ],
      "execution_count": 0,
      "outputs": []
    },
    {
      "cell_type": "code",
      "metadata": {
        "id": "73RuPGCesUqJ",
        "colab_type": "code",
        "colab": {}
      },
      "source": [
        "#Average of total residents over the years\n",
        "A=df[df['level_1']=='Total Residents']\n"
      ],
      "execution_count": 0,
      "outputs": []
    },
    {
      "cell_type": "code",
      "metadata": {
        "id": "tLAPXgYnvBDw",
        "colab_type": "code",
        "colab": {
          "base_uri": "https://localhost:8080/",
          "height": 1000
        },
        "outputId": "426649e3-fe02-4ab4-afde-664e4e6d1a7f"
      },
      "source": [
        "A.groupby('year')['value'].mean()"
      ],
      "execution_count": 26,
      "outputs": [
        {
          "output_type": "execute_result",
          "data": {
            "text/plain": [
              "year\n",
              "1957     68281.954545\n",
              "1958     97031.250000\n",
              "1959    101431.250000\n",
              "1960    105243.750000\n",
              "1961    108825.000000\n",
              "1962    111975.000000\n",
              "1963    114925.000000\n",
              "1964    117956.250000\n",
              "1965    120925.000000\n",
              "1966    124112.500000\n",
              "1967    127012.500000\n",
              "1968    129356.250000\n",
              "1969    131437.500000\n",
              "1970    106686.200000\n",
              "1971    136662.500000\n",
              "1972    139456.250000\n",
              "1973    142268.750000\n",
              "1974    144906.250000\n",
              "1975    147131.250000\n",
              "1976    149381.250000\n",
              "1977    151650.000000\n",
              "1978    153718.750000\n",
              "1979    155831.250000\n",
              "1980    113671.136364\n",
              "1981    139340.000000\n",
              "1982    142119.111111\n",
              "1983    144856.500000\n",
              "1984    147412.111111\n",
              "1985    150090.333333\n",
              "1986    152580.833333\n",
              "            ...      \n",
              "1989    161413.000000\n",
              "1990    140525.000000\n",
              "1991    143756.045455\n",
              "1992    146899.363636\n",
              "1993    150034.227273\n",
              "1994    153129.181818\n",
              "1995    156207.136364\n",
              "1996    159247.181818\n",
              "1997    162435.545455\n",
              "1998    165746.318182\n",
              "1999    168782.590909\n",
              "2000    171640.545455\n",
              "2001    175037.863636\n",
              "2002    178689.318182\n",
              "2003    177678.500000\n",
              "2004    181389.272727\n",
              "2005    185392.318182\n",
              "2006    189420.000000\n",
              "2007    193189.136364\n",
              "2008    197211.318182\n",
              "2009    203149.272727\n",
              "2010    206378.272727\n",
              "2011    208890.363636\n",
              "2012    212254.954545\n",
              "2013    215588.045455\n",
              "2014    219255.681818\n",
              "2015    223081.909091\n",
              "2016    227010.545455\n",
              "2017    231350.727273\n",
              "2018    235680.772727\n",
              "Name: value, Length: 62, dtype: float64"
            ]
          },
          "metadata": {
            "tags": []
          },
          "execution_count": 26
        }
      ]
    },
    {
      "cell_type": "code",
      "metadata": {
        "id": "SU7acoRuvR29",
        "colab_type": "code",
        "colab": {}
      },
      "source": [
        ""
      ],
      "execution_count": 0,
      "outputs": []
    },
    {
      "cell_type": "code",
      "metadata": {
        "id": "qvd0H1bLrTEd",
        "colab_type": "code",
        "colab": {
          "base_uri": "https://localhost:8080/",
          "height": 425
        },
        "outputId": "92ce05b0-b8e4-4422-8b38-f89f83c44b32"
      },
      "source": [
        "B=df.groupby('level_2') [\"value\"].sum()\n",
        "B"
      ],
      "execution_count": 172,
      "outputs": [
        {
          "output_type": "execute_result",
          "data": {
            "text/plain": [
              "level_2\n",
              "0  -  4 Years      56334880.0\n",
              "10 - 14 Years      57838966.0\n",
              "15 - 19 Years      56301016.0\n",
              "20 - 24 Years      55078706.0\n",
              "25 - 29 Years      56147405.0\n",
              "30 - 34 Years      55688454.0\n",
              "35 - 39 Years      52935226.0\n",
              "40 - 44 Years      48600165.0\n",
              "45 - 49 Years      43314851.0\n",
              "5  -  9 Years      58076186.0\n",
              "50 - 54 Years      37397546.0\n",
              "55 - 59 Years      30750972.0\n",
              "60 - 64 Years      23988284.0\n",
              "65 - 69 Years      17672497.0\n",
              "65 Years & Over    45746835.0\n",
              "70 - 74 Years      10642861.0\n",
              "70 Years & Over    28074338.0\n",
              "75 - 79 Years       6313037.0\n",
              "75 Years & Over    14530277.0\n",
              "80 - 84 Years       3761021.0\n",
              "80 Years & Over     6648274.0\n",
              "85 Years & Over     2860213.0\n",
              "Name: value, dtype: float64"
            ]
          },
          "metadata": {
            "tags": []
          },
          "execution_count": 172
        }
      ]
    },
    {
      "cell_type": "code",
      "metadata": {
        "id": "fi94hIhcssL3",
        "colab_type": "code",
        "colab": {
          "base_uri": "https://localhost:8080/",
          "height": 425
        },
        "outputId": "8adf5149-a38a-4fc5-b4df-fd6de01debc6"
      },
      "source": [
        "B=B.sort_values(kind='mergesort')\n",
        "print(B)"
      ],
      "execution_count": 100,
      "outputs": [
        {
          "output_type": "stream",
          "text": [
            "level_2\n",
            "85 Years & Over     2860213.0\n",
            "80 - 84 Years       3761021.0\n",
            "75 - 79 Years       6313037.0\n",
            "80 Years & Over     6648274.0\n",
            "70 - 74 Years      10642861.0\n",
            "75 Years & Over    14530277.0\n",
            "65 - 69 Years      17672497.0\n",
            "60 - 64 Years      23988284.0\n",
            "70 Years & Over    28074338.0\n",
            "55 - 59 Years      30750972.0\n",
            "50 - 54 Years      37397546.0\n",
            "45 - 49 Years      43314851.0\n",
            "65 Years & Over    45746835.0\n",
            "40 - 44 Years      48600165.0\n",
            "35 - 39 Years      52935226.0\n",
            "20 - 24 Years      55078706.0\n",
            "30 - 34 Years      55688454.0\n",
            "25 - 29 Years      56147405.0\n",
            "15 - 19 Years      56301016.0\n",
            "0  -  4 Years      56334880.0\n",
            "10 - 14 Years      57838966.0\n",
            "5  -  9 Years      58076186.0\n",
            "Name: value, dtype: float64\n"
          ],
          "name": "stdout"
        }
      ]
    },
    {
      "cell_type": "code",
      "metadata": {
        "id": "k4C9yCg2ECjI",
        "colab_type": "code",
        "colab": {}
      },
      "source": [
        "#5-9 years has the maximum"
      ],
      "execution_count": 0,
      "outputs": []
    },
    {
      "cell_type": "code",
      "metadata": {
        "id": "ksztnYYkFdk6",
        "colab_type": "code",
        "colab": {
          "base_uri": "https://localhost:8080/",
          "height": 34
        },
        "outputId": "71a119e1-7be1-4f4a-c4d6-454227841c6b"
      },
      "source": [
        "percent=(58076186.0/768702010.0)\n",
        "percent"
      ],
      "execution_count": 179,
      "outputs": [
        {
          "output_type": "execute_result",
          "data": {
            "text/plain": [
              "0.07555097455774833"
            ]
          },
          "metadata": {
            "tags": []
          },
          "execution_count": 179
        }
      ]
    },
    {
      "cell_type": "code",
      "metadata": {
        "id": "MR_TwLSmvi6z",
        "colab_type": "code",
        "colab": {}
      },
      "source": [
        "#5-9 compromises of the largest age group with about 7.5% of the total population"
      ],
      "execution_count": 0,
      "outputs": []
    },
    {
      "cell_type": "code",
      "metadata": {
        "id": "CmgnicIPuRrP",
        "colab_type": "code",
        "colab": {
          "base_uri": "https://localhost:8080/",
          "height": 1000
        },
        "outputId": "be4fc286-a633-4e57-a98d-f406283ad364"
      },
      "source": [
        "#Average population\n",
        "A=df[df['level_2']=='5  -  9 Years']\n",
        "A.groupby('year')['value'].mean()"
      ],
      "execution_count": 31,
      "outputs": [
        {
          "output_type": "execute_result",
          "data": {
            "text/plain": [
              "year\n",
              "1957    58159.200000\n",
              "1958    61226.666667\n",
              "1959    64266.666667\n",
              "1960    66746.666667\n",
              "1961    69040.000000\n",
              "1962    71120.000000\n",
              "1963    73600.000000\n",
              "1964    75733.333333\n",
              "1965    77626.666667\n",
              "1966    79360.000000\n",
              "1967    80080.000000\n",
              "1968    79440.000000\n",
              "1969    78693.333333\n",
              "1970    73065.866667\n",
              "1971    73786.666667\n",
              "1972    71866.666667\n",
              "1973    69333.333333\n",
              "1974    65866.666667\n",
              "1975    62480.000000\n",
              "1976    60613.333333\n",
              "1977    59866.666667\n",
              "1978    60053.333333\n",
              "1979    60106.666667\n",
              "1980    57768.000000\n",
              "1981    56444.000000\n",
              "1982    55093.133333\n",
              "1983    52659.800000\n",
              "1984    51570.666667\n",
              "1985    51210.733333\n",
              "1986    51958.400000\n",
              "            ...     \n",
              "1989    53885.733333\n",
              "1990    54834.133333\n",
              "1991    54881.933333\n",
              "1992    54593.133333\n",
              "1993    56095.733333\n",
              "1994    59686.400000\n",
              "1995    61488.866667\n",
              "1996    64605.333333\n",
              "1997    67549.533333\n",
              "1998    68650.600000\n",
              "1999    68306.400000\n",
              "2000    68419.733333\n",
              "2001    67753.866667\n",
              "2002    67517.866667\n",
              "2003    65878.400000\n",
              "2004    64137.866667\n",
              "2005    63263.200000\n",
              "2006    62721.066667\n",
              "2007    61210.933333\n",
              "2008    59632.533333\n",
              "2009    59049.333333\n",
              "2010    57513.333333\n",
              "2011    55498.400000\n",
              "2012    55019.733333\n",
              "2013    54854.400000\n",
              "2014    54877.333333\n",
              "2015    54520.533333\n",
              "2016    53735.733333\n",
              "2017    53486.666667\n",
              "2018    53084.266667\n",
              "Name: value, Length: 62, dtype: float64"
            ]
          },
          "metadata": {
            "tags": []
          },
          "execution_count": 31
        }
      ]
    },
    {
      "cell_type": "code",
      "metadata": {
        "id": "kt7DsVKrwAIj",
        "colab_type": "code",
        "colab": {}
      },
      "source": [
        "##but how to find average growth"
      ],
      "execution_count": 0,
      "outputs": []
    },
    {
      "cell_type": "code",
      "metadata": {
        "id": "bs9b4Gz3thHU",
        "colab_type": "code",
        "colab": {}
      },
      "source": [
        "##Identify the group (by age, ethnicity and gender) that:\n",
        "a. Has shown the highest growth rate\n",
        "b. Has shown the lowest growth rate\n",
        "c. Has remained the same\n",
        "4. Plot a graph for population trends"
      ],
      "execution_count": 0,
      "outputs": []
    },
    {
      "cell_type": "code",
      "metadata": {
        "id": "IKAUegQ93Lbp",
        "colab_type": "code",
        "colab": {
          "base_uri": "https://localhost:8080/",
          "height": 149
        },
        "outputId": "e5199cf9-e4ef-4193-b250-86b4598e84c0"
      },
      "source": [
        "[Other Ethnic Groups (Males) , Other Ethnic Groups (Females), Other Ethnic Groups (Total) , Total Female Indians   ,  Total Male Indians  ,  Total Female Malays ,              \n",
        "Total Male Malays , Total Indians     , Total Malays , Total Male Chinese ,Total Female Chinese ,  Total Male Residents , Total Female Residents  ,   Total Chinese ,                  \n",
        "Total Residents ]"
      ],
      "execution_count": 131,
      "outputs": [
        {
          "output_type": "error",
          "ename": "SyntaxError",
          "evalue": "ignored",
          "traceback": [
            "\u001b[0;36m  File \u001b[0;32m\"<ipython-input-131-2138ca2b70b7>\"\u001b[0;36m, line \u001b[0;32m1\u001b[0m\n\u001b[0;31m    resident=[Other Ethnic Groups (Males) , Other Ethnic Groups (Females), Other Ethnic Groups (Total) , Total Female Indians   ,  Total Male Indians  ,  Total Female Malays ,\u001b[0m\n\u001b[0m                         ^\u001b[0m\n\u001b[0;31mSyntaxError\u001b[0m\u001b[0;31m:\u001b[0m invalid syntax\n"
          ]
        }
      ]
    },
    {
      "cell_type": "code",
      "metadata": {
        "id": "z8OESBkW1cb4",
        "colab_type": "code",
        "colab": {}
      },
      "source": [
        "C=df[df['level_1']=='Other Ethnic Groups (Total)']\n",
        "D=df[df['level_1']=='Total Indians']\n",
        "E=df[df['level_1']=='Total Malays']\n",
        "F=df[df['level_1']=='Total Chinese']\n",
        "G=df[df['level_1']=='Total Residents']"
      ],
      "execution_count": 0,
      "outputs": []
    },
    {
      "cell_type": "code",
      "metadata": {
        "id": "ehi9k9k47HjF",
        "colab_type": "code",
        "colab": {}
      },
      "source": [
        "#Other Ethnic Groups (Males) , Other Ethnic Groups (Females),, Total Female Indians\n",
        "H=df[df['level_1']=='Other Ethnic Groups (Males)']\n",
        "I=df[df['level_1']=='Other Ethnic Groups (Females)']\n",
        "J=df[df['level_1']=='Total Female Indians']\n",
        "K=df[df['level_1']=='Total Male Indians']\n",
        "L=df[df['level_1']=='Total Female Malays']\n",
        "M=df[df['level_1']== 'Total Male Malays']\n",
        "N=df[df['level_1']== 'Total Female Chinese']\n"
      ],
      "execution_count": 0,
      "outputs": []
    },
    {
      "cell_type": "code",
      "metadata": {
        "id": "3uNFwGPbvXp3",
        "colab_type": "code",
        "colab": {
          "base_uri": "https://localhost:8080/",
          "height": 449
        },
        "outputId": "1ec1d1bd-634f-40a7-d060-11b99200f9c1"
      },
      "source": [
        "import matplotlib.pyplot as plt\n",
        "plt.figure(figsize=(15,7))\n",
        "x=C['value']\n",
        "y=C['year']\n",
        "plt.bar(y,x)"
      ],
      "execution_count": 138,
      "outputs": [
        {
          "output_type": "execute_result",
          "data": {
            "text/plain": [
              "<BarContainer object of 1364 artists>"
            ]
          },
          "metadata": {
            "tags": []
          },
          "execution_count": 138
        },
        {
          "output_type": "display_data",
          "data": {
            "image/png": "[encoded data removed]",
            "text/plain": [
              "<Figure size 1080x504 with 1 Axes>"
            ]
          },
          "metadata": {
            "tags": []
          }
        }
      ]
    },
    {
      "cell_type": "code",
      "metadata": {
        "id": "6jop-xxC7wYR",
        "colab_type": "code",
        "colab": {
          "base_uri": "https://localhost:8080/",
          "height": 449
        },
        "outputId": "3384e1c0-383c-4cfd-fe29-361d0e007305"
      },
      "source": [
        "import matplotlib.pyplot as plt\n",
        "plt.figure(figsize=(15,7))\n",
        "x=D['value']\n",
        "y=C['year']\n",
        "plt.bar(y,x)"
      ],
      "execution_count": 135,
      "outputs": [
        {
          "output_type": "execute_result",
          "data": {
            "text/plain": [
              "<BarContainer object of 1364 artists>"
            ]
          },
          "metadata": {
            "tags": []
          },
          "execution_count": 135
        },
        {
          "output_type": "display_data",
          "data": {
            "image/png": "[encoded data removed]",
            "text/plain": [
              "<Figure size 1080x504 with 1 Axes>"
            ]
          },
          "metadata": {
            "tags": []
          }
        }
      ]
    },
    {
      "cell_type": "code",
      "metadata": {
        "id": "UObKw2MS7xZ9",
        "colab_type": "code",
        "colab": {
          "base_uri": "https://localhost:8080/",
          "height": 449
        },
        "outputId": "294043fc-4c59-4638-8fa1-ae92ad45c974"
      },
      "source": [
        "import matplotlib.pyplot as plt\n",
        "plt.figure(figsize=(15,7))\n",
        "x=E['value']\n",
        "y=C['year']\n",
        "plt.bar(y,x)"
      ],
      "execution_count": 136,
      "outputs": [
        {
          "output_type": "execute_result",
          "data": {
            "text/plain": [
              "<BarContainer object of 1364 artists>"
            ]
          },
          "metadata": {
            "tags": []
          },
          "execution_count": 136
        },
        {
          "output_type": "display_data",
          "data": {
            "image/png": "[encoded data removed]",
            "text/plain": [
              "<Figure size 1080x504 with 1 Axes>"
            ]
          },
          "metadata": {
            "tags": []
          }
        }
      ]
    },
    {
      "cell_type": "code",
      "metadata": {
        "id": "kuob8gIY703Z",
        "colab_type": "code",
        "colab": {
          "base_uri": "https://localhost:8080/",
          "height": 449
        },
        "outputId": "fd1803ff-8520-45b8-a0e9-13140301ed42"
      },
      "source": [
        "import matplotlib.pyplot as plt\n",
        "plt.figure(figsize=(15,7))\n",
        "x=G['value']\n",
        "y=C['year']\n",
        "plt.bar(y,x)"
      ],
      "execution_count": 137,
      "outputs": [
        {
          "output_type": "execute_result",
          "data": {
            "text/plain": [
              "<BarContainer object of 1364 artists>"
            ]
          },
          "metadata": {
            "tags": []
          },
          "execution_count": 137
        },
        {
          "output_type": "display_data",
          "data": {
            "image/png": "[encoded data removed]",
            "text/plain": [
              "<Figure size 1080x504 with 1 Axes>"
            ]
          },
          "metadata": {
            "tags": []
          }
        }
      ]
    },
    {
      "cell_type": "code",
      "metadata": {
        "id": "u0yc68-buFax",
        "colab_type": "code",
        "colab": {
          "base_uri": "https://localhost:8080/",
          "height": 449
        },
        "outputId": "8d4bfcfc-6464-476a-e882-90b12f5483a3"
      },
      "source": [
        "import matplotlib.pyplot as plt\n",
        "plt.figure(figsize=(15,7))\n",
        "x=H['value']\n",
        "y=C['year']\n",
        "plt.bar(y,x)"
      ],
      "execution_count": 140,
      "outputs": [
        {
          "output_type": "execute_result",
          "data": {
            "text/plain": [
              "<BarContainer object of 1364 artists>"
            ]
          },
          "metadata": {
            "tags": []
          },
          "execution_count": 140
        },
        {
          "output_type": "display_data",
          "data": {
            "image/png": "[encoded data removed]",
            "text/plain": [
              "<Figure size 1080x504 with 1 Axes>"
            ]
          },
          "metadata": {
            "tags": []
          }
        }
      ]
    },
    {
      "cell_type": "code",
      "metadata": {
        "id": "jZTlv2XI-Hrq",
        "colab_type": "code",
        "colab": {
          "base_uri": "https://localhost:8080/",
          "height": 449
        },
        "outputId": "dacbbe7a-f2d4-4c71-9733-ff69b6277ddc"
      },
      "source": [
        "\n",
        "plt.figure(figsize=(15,7))\n",
        "x=I['value']\n",
        "y=C['year']\n",
        "plt.bar(y,x)"
      ],
      "execution_count": 141,
      "outputs": [
        {
          "output_type": "execute_result",
          "data": {
            "text/plain": [
              "<BarContainer object of 1364 artists>"
            ]
          },
          "metadata": {
            "tags": []
          },
          "execution_count": 141
        },
        {
          "output_type": "display_data",
          "data": {
            "image/png": "[encoded data removed]",
            "text/plain": [
              "<Figure size 1080x504 with 1 Axes>"
            ]
          },
          "metadata": {
            "tags": []
          }
        }
      ]
    },
    {
      "cell_type": "code",
      "metadata": {
        "id": "cp1XZ761-KWp",
        "colab_type": "code",
        "colab": {
          "base_uri": "https://localhost:8080/",
          "height": 449
        },
        "outputId": "e8e0bdd7-33b3-4e2e-b3fd-d7d5991d64be"
      },
      "source": [
        "import matplotlib.pyplot as plt\n",
        "plt.figure(figsize=(15,7))\n",
        "x=J['value']\n",
        "y=C['year']\n",
        "plt.bar(y,x)"
      ],
      "execution_count": 142,
      "outputs": [
        {
          "output_type": "execute_result",
          "data": {
            "text/plain": [
              "<BarContainer object of 1364 artists>"
            ]
          },
          "metadata": {
            "tags": []
          },
          "execution_count": 142
        },
        {
          "output_type": "display_data",
          "data": {
            "image/png": "[encoded data removed]",
            "text/plain": [
              "<Figure size 1080x504 with 1 Axes>"
            ]
          },
          "metadata": {
            "tags": []
          }
        }
      ]
    },
    {
      "cell_type": "code",
      "metadata": {
        "id": "oGyJYYdA-MCe",
        "colab_type": "code",
        "colab": {
          "base_uri": "https://localhost:8080/",
          "height": 449
        },
        "outputId": "d724a88b-b735-4769-b7c1-19567b41675c"
      },
      "source": [
        "import matplotlib.pyplot as plt\n",
        "plt.figure(figsize=(15,7))\n",
        "x=K['value']\n",
        "y=C['year']\n",
        "plt.bar(y,x)"
      ],
      "execution_count": 143,
      "outputs": [
        {
          "output_type": "execute_result",
          "data": {
            "text/plain": [
              "<BarContainer object of 1364 artists>"
            ]
          },
          "metadata": {
            "tags": []
          },
          "execution_count": 143
        },
        {
          "output_type": "display_data",
          "data": {
            "image/png": "[encoded data removed]",
            "text/plain": [
              "<Figure size 1080x504 with 1 Axes>"
            ]
          },
          "metadata": {
            "tags": []
          }
        }
      ]
    },
    {
      "cell_type": "code",
      "metadata": {
        "id": "H7IlL3Id-OjS",
        "colab_type": "code",
        "colab": {
          "base_uri": "https://localhost:8080/",
          "height": 449
        },
        "outputId": "adc6bff5-8d03-4bb0-a160-d10a36019fdf"
      },
      "source": [
        "import matplotlib.pyplot as plt\n",
        "plt.figure(figsize=(15,7))\n",
        "x=L['value']\n",
        "y=C['year']\n",
        "plt.bar(y,x)"
      ],
      "execution_count": 144,
      "outputs": [
        {
          "output_type": "execute_result",
          "data": {
            "text/plain": [
              "<BarContainer object of 1364 artists>"
            ]
          },
          "metadata": {
            "tags": []
          },
          "execution_count": 144
        },
        {
          "output_type": "display_data",
          "data": {
            "image/png": "[encoded data removed]",
            "text/plain": [
              "<Figure size 1080x504 with 1 Axes>"
            ]
          },
          "metadata": {
            "tags": []
          }
        }
      ]
    },
    {
      "cell_type": "code",
      "metadata": {
        "id": "aUo6B6dk-UfV",
        "colab_type": "code",
        "colab": {
          "base_uri": "https://localhost:8080/",
          "height": 449
        },
        "outputId": "550c0021-4b17-4658-aa1e-5e65caced883"
      },
      "source": [
        "import matplotlib.pyplot as plt\n",
        "plt.figure(figsize=(15,7))\n",
        "x=M['value']\n",
        "y=C['year']\n",
        "plt.bar(y,x)"
      ],
      "execution_count": 145,
      "outputs": [
        {
          "output_type": "execute_result",
          "data": {
            "text/plain": [
              "<BarContainer object of 1364 artists>"
            ]
          },
          "metadata": {
            "tags": []
          },
          "execution_count": 145
        },
        {
          "output_type": "display_data",
          "data": {
            "image/png": "[encoded data removed]",
            "text/plain": [
              "<Figure size 1080x504 with 1 Axes>"
            ]
          },
          "metadata": {
            "tags": []
          }
        }
      ]
    },
    {
      "cell_type": "code",
      "metadata": {
        "id": "On1DQvQR-Wqp",
        "colab_type": "code",
        "colab": {
          "base_uri": "https://localhost:8080/",
          "height": 449
        },
        "outputId": "cd64d04e-e143-4e81-b2c5-1cec6336f06d"
      },
      "source": [
        "import matplotlib.pyplot as plt\n",
        "plt.figure(figsize=(15,7))\n",
        "x=N['value']\n",
        "y=C['year']\n",
        "plt.bar(y,x)"
      ],
      "execution_count": 146,
      "outputs": [
        {
          "output_type": "execute_result",
          "data": {
            "text/plain": [
              "<BarContainer object of 1364 artists>"
            ]
          },
          "metadata": {
            "tags": []
          },
          "execution_count": 146
        },
        {
          "output_type": "display_data",
          "data": {
            "image/png": "[encoded data removed]",
            "text/plain": [
              "<Figure size 1080x504 with 1 Axes>"
            ]
          },
          "metadata": {
            "tags": []
          }
        }
      ]
    },
    {
      "cell_type": "code",
      "metadata": {
        "id": "PD2-Szxq-v-U",
        "colab_type": "code",
        "colab": {}
      },
      "source": [
        "New=df['level_2']"
      ],
      "execution_count": 0,
      "outputs": []
    },
    {
      "cell_type": "code",
      "metadata": {
        "id": "QBXxwFpvCnwx",
        "colab_type": "code",
        "colab": {
          "base_uri": "https://localhost:8080/",
          "height": 425
        },
        "outputId": "8cafb042-107a-498c-a5ee-1e0f750406c0"
      },
      "source": [
        "df.groupby('level_2')['value'].sum()"
      ],
      "execution_count": 164,
      "outputs": [
        {
          "output_type": "execute_result",
          "data": {
            "text/plain": [
              "level_2\n",
              "0  -  4 Years      56334880.0\n",
              "10 - 14 Years      57838966.0\n",
              "15 - 19 Years      56301016.0\n",
              "20 - 24 Years      55078706.0\n",
              "25 - 29 Years      56147405.0\n",
              "30 - 34 Years      55688454.0\n",
              "35 - 39 Years      52935226.0\n",
              "40 - 44 Years      48600165.0\n",
              "45 - 49 Years      43314851.0\n",
              "5  -  9 Years      58076186.0\n",
              "50 - 54 Years      37397546.0\n",
              "55 - 59 Years      30750972.0\n",
              "60 - 64 Years      23988284.0\n",
              "65 - 69 Years      17672497.0\n",
              "65 Years & Over    45746835.0\n",
              "70 - 74 Years      10642861.0\n",
              "70 Years & Over    28074338.0\n",
              "75 - 79 Years       6313037.0\n",
              "75 Years & Over    14530277.0\n",
              "80 - 84 Years       3761021.0\n",
              "80 Years & Over     6648274.0\n",
              "85 Years & Over     2860213.0\n",
              "Name: value, dtype: float64"
            ]
          },
          "metadata": {
            "tags": []
          },
          "execution_count": 164
        }
      ]
    },
    {
      "cell_type": "code",
      "metadata": {
        "id": "4F1lMXWUDiqe",
        "colab_type": "code",
        "colab": {}
      },
      "source": [
        ""
      ],
      "execution_count": 0,
      "outputs": []
    }
  ]
}