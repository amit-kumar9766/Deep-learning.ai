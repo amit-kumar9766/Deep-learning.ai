{
  "nbformat": 4,
  "nbformat_minor": 0,
  "metadata": {
    "colab": {
      "name": "Precily.ipynb",
      "version": "0.3.2",
      "provenance": [],
      "include_colab_link": true
    },
    "kernelspec": {
      "name": "python3",
      "display_name": "Python 3"
    }
  },
  "cells": [
    {
      "cell_type": "markdown",
      "metadata": {
        "id": "view-in-github",
        "colab_type": "text"
      },
      "source": [
        "<a href=\"https://colab.research.google.com/github/amit-kumar9766/Deeplearning.ai/blob/master/Precily.ipynb\" target=\"_parent\"><img src=\"https://colab.research.google.com/assets/colab-badge.svg\" alt=\"Open In Colab\"/></a>"
      ]
    },
    {
      "cell_type": "code",
      "metadata": {
        "id": "NZC_cn2sv75g",
        "colab_type": "code",
        "outputId": "85c74665-0456-4778-9785-126d802f37e6",
        "colab": {
          "base_uri": "https://localhost:8080/",
          "height": 122
        }
      },
      "source": [
        "from google.colab import drive\n",
        "drive.mount('/content/drive')"
      ],
      "execution_count": 0,
      "outputs": [
        {
          "output_type": "stream",
          "text": [
            "Go to this URL in a browser: https://accounts.google.com/o/oauth2/auth?client_id=947318989803-6bn6qk8qdgf4n4g3pfee6491hc0brc4i.apps.googleusercontent.com&redirect_uri=urn%3Aietf%3Awg%3Aoauth%3A2.0%3Aoob&scope=email%20https%3A%2F%2Fwww.googleapis.com%2Fauth%2Fdocs.test%20https%3A%2F%2Fwww.googleapis.com%2Fauth%2Fdrive%20https%3A%2F%2Fwww.googleapis.com%2Fauth%2Fdrive.photos.readonly%20https%3A%2F%2Fwww.googleapis.com%2Fauth%2Fpeopleapi.readonly&response_type=code\n",
            "\n",
            "Enter your authorization code:\n",
            "··········\n",
            "Mounted at /content/drive\n"
          ],
          "name": "stdout"
        }
      ]
    },
    {
      "cell_type": "code",
      "metadata": {
        "id": "NmdgVRyV7C5l",
        "colab_type": "code",
        "outputId": "181a73e8-7b4d-4fe5-aef1-1328ee9dcd1f",
        "colab": {
          "base_uri": "https://localhost:8080/",
          "height": 765
        }
      },
      "source": [
        "!ls \"/content/drive/My Drive\""
      ],
      "execution_count": 0,
      "outputs": [
        {
          "output_type": "stream",
          "text": [
            " 10amit.pdf\n",
            "'15350654_1162928977128448_7087578000792177675_n.jpg (673×673)'\n",
            " 1559629_352181414934209_8570781321062307876_n.jpg\n",
            " 20170123_192124.jpg\n",
            "'2.Indian Polity ---President to (2).docx.gdoc'\n",
            " AmitKr_Resume.pdf\n",
            "'Autopilot-TensorFlow-master (1) (1).zip'\n",
            "'Autopilot-TensorFlow-master (1).zip'\n",
            " bbc-text.csv\n",
            "'BOW (1).ipynb'\n",
            " BOW.pdf\n",
            "'btech marksheet.pdf'\n",
            " Classroom\n",
            "'Colab Notebooks'\n",
            "'Coursera KXW5GZBJ8SYZ.pdf'\n",
            "'dd 001.jpg'\n",
            "'How to get started with Drive.pdf'\n",
            " HumanActivityRecognition.zip\n",
            "'HYDRAULIC CIRCUIT DOO4063 Model (1).pdf'\n",
            "'Import data in R.docx'\n",
            "'Import data in R.docx.gdoc'\n",
            "'JOINS (1).docx.gdoc'\n",
            "'JOINS (2).docx.gdoc'\n",
            " JOINS.docx\n",
            " JOINS.docx.gdoc\n",
            " LSTMs.ipynb\n",
            "'Naive BAyes  BOW-Amit.pdf'\n",
            " Online-journalism-internship-application...edited.doc\n",
            " Probability3.wmv\n",
            "'Quora insincerity (1).ipynb'\n",
            "'RESUME (6).docx'\n",
            "'RESUME (6).docx.gdoc'\n",
            " Reviews.csv\n",
            "'Share PDF'\n",
            " Statistics.pdf\n",
            " Synopsis2.pdf\n",
            " trainquora.csv\n",
            "'UES-25 (PFY) Joining Instr.pdf'\n",
            "'Untitled Diagram.drawio'\n",
            "'Untitled drawing.gdraw'\n",
            "'Untitled form (1).gform'\n",
            "'Untitled form (2).gform'\n",
            "'Untitled form.gform'\n",
            " X_test\n"
          ],
          "name": "stdout"
        }
      ]
    },
    {
      "cell_type": "code",
      "metadata": {
        "id": "A8Jb_wQf9Orr",
        "colab_type": "code",
        "colab": {}
      },
      "source": [
        "!cp \"/content/drive/My Drive/bbc-text.csv\" \"bbc-text.csv\""
      ],
      "execution_count": 0,
      "outputs": []
    },
    {
      "cell_type": "code",
      "metadata": {
        "id": "8CsGyLMRSU5g",
        "colab_type": "code",
        "colab": {}
      },
      "source": [
        "import json\n",
        "import tensorflow as tf\n",
        "import csv\n",
        "import random\n",
        "import numpy as np\n",
        "\n",
        "from tensorflow.keras.preprocessing.text import Tokenizer\n",
        "from tensorflow.keras.preprocessing.sequence import pad_sequences\n",
        "from tensorflow.keras.utils import to_categorical\n",
        "from tensorflow.keras import regularizers\n"
      ],
      "execution_count": 0,
      "outputs": []
    },
    {
      "cell_type": "code",
      "metadata": {
        "id": "vNkUiP1ZSiMZ",
        "colab_type": "code",
        "colab": {}
      },
      "source": [
        "vocab_size = 1000\n",
        "embedding_dim = 16\n",
        "max_length = 100\n",
        "trunc_type='post'\n",
        "padding_type='post'\n",
        "oov_tok = \"<OOV>\"\n",
        "training_portion = .7"
      ],
      "execution_count": 0,
      "outputs": []
    },
    {
      "cell_type": "code",
      "metadata": {
        "id": "EsEDURzHqeAu",
        "colab_type": "code",
        "outputId": "1c54c9da-062d-4e68-aea3-879f47de5c85",
        "colab": {
          "base_uri": "https://localhost:8080/",
          "height": 34
        }
      },
      "source": [
        "stopwords = [ \"a\", \"about\", \"above\", \"after\", \"again\", \"against\", \"all\", \"am\", \"an\", \"and\", \"any\", \"are\", \"as\", \"at\", \"be\", \"because\", \"been\", \"before\", \"being\", \"below\", \"between\", \"both\", \"but\", \"by\", \"could\", \"did\", \"do\", \"does\", \"doing\", \"down\", \"during\", \"each\", \"few\", \"for\", \"from\", \"further\", \"had\", \"has\", \"have\", \"having\", \"he\", \"he'd\", \"he'll\", \"he's\", \"her\", \"here\", \"here's\", \"hers\", \"herself\", \"him\", \"himself\", \"his\", \"how\", \"how's\", \"i\", \"i'd\", \"i'll\", \"i'm\", \"i've\", \"if\", \"in\", \"into\", \"is\", \"it\", \"it's\", \"its\", \"itself\", \"let's\", \"me\", \"more\", \"most\", \"my\", \"myself\", \"nor\", \"of\", \"on\", \"once\", \"only\", \"or\", \"other\", \"ought\", \"our\", \"ours\", \"ourselves\", \"out\", \"over\", \"own\", \"same\", \"she\", \"she'd\", \"she'll\", \"she's\", \"should\", \"so\", \"some\", \"such\", \"than\", \"that\", \"that's\", \"the\", \"their\", \"theirs\", \"them\", \"themselves\", \"then\", \"there\", \"there's\", \"these\", \"they\", \"they'd\", \"they'll\", \"they're\", \"they've\", \"this\", \"those\", \"through\", \"to\", \"too\", \"under\", \"until\", \"up\", \"very\", \"was\", \"we\", \"we'd\", \"we'll\", \"we're\", \"we've\", \"were\", \"what\", \"what's\", \"when\", \"when's\", \"where\", \"where's\", \"which\", \"while\", \"who\", \"who's\", \"whom\", \"why\", \"why's\", \"with\", \"would\", \"you\", \"you'd\", \"you'll\", \"you're\", \"you've\", \"your\", \"yours\", \"yourself\", \"yourselves\" ]\n",
        "print(len(stopwords))\n"
      ],
      "execution_count": 0,
      "outputs": [
        {
          "output_type": "stream",
          "text": [
            "153\n"
          ],
          "name": "stdout"
        }
      ]
    },
    {
      "cell_type": "code",
      "metadata": {
        "id": "UDN5uYQGgyv1",
        "colab_type": "code",
        "outputId": "0eddbf29-ae56-4aa5-84b0-29d74c2c2959",
        "colab": {
          "base_uri": "https://localhost:8080/",
          "height": 88
        }
      },
      "source": [
        "labels=[]\n",
        "sentences=[]\n",
        "with open(\"/content/drive/My Drive/bbc-text.csv\", 'r') as csvfile:\n",
        "    reader = csv.reader(csvfile, delimiter=',')\n",
        "    next(reader)\n",
        "    for row in reader:\n",
        "        labels.append(row[0])\n",
        "        sentence = row[1]\n",
        "        for word in stopwords:\n",
        "            token = \" \" + word + \" \"\n",
        "            sentence = sentence.replace(token, \" \")\n",
        "        sentences.append(sentence)\n",
        "\n",
        "print(len(labels))\n",
        "print(len(sentences))\n",
        "print(sentences[0])"
      ],
      "execution_count": 0,
      "outputs": [
        {
          "output_type": "stream",
          "text": [
            "2225\n",
            "2225\n",
            "tv future hands viewers home theatre systems  plasma high-definition tvs  digital video recorders moving living room  way people watch tv will radically different five years  time.  according expert panel gathered annual consumer electronics show las vegas discuss new technologies will impact one favourite pastimes. us leading trend  programmes content will delivered viewers via home networks  cable  satellite  telecoms companies  broadband service providers front rooms portable devices.  one talked-about technologies ces digital personal video recorders (dvr pvr). set-top boxes  like us s tivo uk s sky+ system  allow people record  store  play  pause forward wind tv programmes want.  essentially  technology allows much personalised tv. also built-in high-definition tv sets  big business japan us  slower take off europe lack high-definition programming. not can people forward wind adverts  can also forget abiding network channel schedules  putting together a-la-carte entertainment. us networks cable satellite companies worried means terms advertising revenues well  brand identity  viewer loyalty channels. although us leads technology moment  also concern raised europe  particularly growing uptake services like sky+.  happens today  will see nine months years  time uk   adam hume  bbc broadcast s futurologist told bbc news website. likes bbc  no issues lost advertising revenue yet. pressing issue moment commercial uk broadcasters  brand loyalty important everyone.  will talking content brands rather network brands   said tim hanlon  brand communications firm starcom mediavest.  reality broadband connections  anybody can producer content.  added:  challenge now hard promote programme much choice.   means  said stacey jolna  senior vice president tv guide tv group  way people find content want watch simplified tv viewers. means networks  us terms  channels take leaf google s book search engine future  instead scheduler help people find want watch. kind channel model might work younger ipod generation used taking control gadgets play them. might not suit everyone  panel recognised. older generations comfortable familiar schedules channel brands know getting. perhaps not want much choice put hands  mr hanlon suggested.  end  kids just diapers pushing buttons already - everything possible available   said mr hanlon.  ultimately  consumer will tell market want.   50 000 new gadgets technologies showcased ces  many enhancing tv-watching experience. high-definition tv sets everywhere many new models lcd (liquid crystal display) tvs launched dvr capability built  instead external boxes. one example launched show humax s 26-inch lcd tv 80-hour tivo dvr dvd recorder. one us s biggest satellite tv companies  directtv  even launched branded dvr show 100-hours recording capability  instant replay  search function. set can pause rewind tv 90 hours. microsoft chief bill gates announced pre-show keynote speech partnership tivo  called tivotogo  means people can play recorded programmes windows pcs mobile devices. reflect increasing trend freeing multimedia people can watch want  want.\n"
          ],
          "name": "stdout"
        }
      ]
    },
    {
      "cell_type": "code",
      "metadata": {
        "colab_type": "code",
        "id": "k_U51ClfnHVr",
        "colab": {}
      },
      "source": [
        ""
      ],
      "execution_count": 0,
      "outputs": []
    },
    {
      "cell_type": "code",
      "metadata": {
        "id": "IsZnpTjZcmp_",
        "colab_type": "code",
        "outputId": "92cdc692-6906-4727-8723-86dba13f0b8e",
        "colab": {
          "base_uri": "https://localhost:8080/",
          "height": 34
        }
      },
      "source": [
        "\n",
        "train_size = int(len(labels) * training_portion)\n",
        "print(train_size)\n",
        "train_sentences = sentences[:train_size]\n",
        "#print(train_sentences)\n",
        "train_labels = labels[:train_size]\n",
        "\n",
        "test_sentences = sentences[train_size:]\n",
        "test_labels = labels[train_size:]\n",
        "\n",
        "label_tokenizer = Tokenizer()\n",
        "label_tokenizer.fit_on_texts(labels)\n",
        "\n",
        "train_labels = np.array(label_tokenizer.texts_to_sequences(train_labels))\n",
        "test_labels = np.array(label_tokenizer.texts_to_sequences(test_labels))\n"
      ],
      "execution_count": 0,
      "outputs": [
        {
          "output_type": "stream",
          "text": [
            "1557\n"
          ],
          "name": "stdout"
        }
      ]
    },
    {
      "cell_type": "code",
      "metadata": {
        "id": "e9XaDtBfDA_G",
        "colab_type": "code",
        "outputId": "33aa6e5a-733a-4f1f-b90f-8e0d12eed7a3",
        "colab": {
          "base_uri": "https://localhost:8080/",
          "height": 34
        }
      },
      "source": [
        "\n",
        "tokenizer = Tokenizer(num_words = vocab_size, oov_token=oov_tok)\n",
        "tokenizer.fit_on_texts(train_sentences)\n",
        "word_index = tokenizer.word_index\n",
        "\n",
        "train_sequences = tokenizer.texts_to_sequences(train_sentences)\n",
        "train_padded = pad_sequences(train_sequences, padding=padding_type, maxlen=max_length)\n",
        "\n",
        "test_sequences = tokenizer.texts_to_sequences(test_sentences)\n",
        "test_padded = pad_sequences(test_sequences, padding=padding_type, maxlen=max_length)\n",
        "\n",
        "\n",
        "print(train_padded.shape)\n"
      ],
      "execution_count": 0,
      "outputs": [
        {
          "output_type": "stream",
          "text": [
            "(1557, 100)\n"
          ],
          "name": "stdout"
        }
      ]
    },
    {
      "cell_type": "code",
      "metadata": {
        "id": "tljQKRz4APyV",
        "colab_type": "code",
        "outputId": "50244698-e29f-425d-b4c7-c8f7900e8b5a",
        "colab": {
          "base_uri": "https://localhost:8080/",
          "height": 34
        }
      },
      "source": [
        "test_padded.shape"
      ],
      "execution_count": 0,
      "outputs": [
        {
          "output_type": "execute_result",
          "data": {
            "text/plain": [
              "(668, 100)"
            ]
          },
          "metadata": {
            "tags": []
          },
          "execution_count": 38
        }
      ]
    },
    {
      "cell_type": "code",
      "metadata": {
        "id": "Q5LXsrvWnLMy",
        "colab_type": "code",
        "outputId": "6b3c46ad-18cb-4f63-8fca-d709a2033d97",
        "colab": {
          "base_uri": "https://localhost:8080/",
          "height": 289
        }
      },
      "source": [
        "model = tf.keras.Sequential([\n",
        "    tf.keras.layers.Embedding(vocab_size, embedding_dim, input_length=max_length),\n",
        "    tf.keras.layers.LSTM(10),\n",
        "    tf.keras.layers.Dense(24, activation='relu'),\n",
        "    tf.keras.layers.Dense(6, activation='softmax')\n",
        "])\n",
        "model.compile(loss='sparse_categorical_crossentropy',optimizer='adam',metrics=['accuracy'])\n",
        "model.summary()"
      ],
      "execution_count": 0,
      "outputs": [
        {
          "output_type": "stream",
          "text": [
            "Model: \"sequential_5\"\n",
            "_________________________________________________________________\n",
            "Layer (type)                 Output Shape              Param #   \n",
            "=================================================================\n",
            "embedding_6 (Embedding)      (None, 100, 16)           16000     \n",
            "_________________________________________________________________\n",
            "lstm_4 (LSTM)                (None, 10)                1080      \n",
            "_________________________________________________________________\n",
            "dense_7 (Dense)              (None, 24)                264       \n",
            "_________________________________________________________________\n",
            "dense_8 (Dense)              (None, 6)                 150       \n",
            "=================================================================\n",
            "Total params: 17,494\n",
            "Trainable params: 17,494\n",
            "Non-trainable params: 0\n",
            "_________________________________________________________________\n"
          ],
          "name": "stdout"
        }
      ]
    },
    {
      "cell_type": "code",
      "metadata": {
        "id": "ma3xMj6TneHR",
        "colab_type": "code",
        "outputId": "977736f4-1550-440b-d4a2-f2739a7c5476",
        "colab": {
          "base_uri": "https://localhost:8080/",
          "height": 1000
        }
      },
      "source": [
        "num_epochs =50\n",
        "history = model.fit(train_padded, train_labels, epochs=num_epochs, validation_data=(test_padded, test_labels), verbose=2)\n",
        "\n",
        "print(\"Training Complete\")\n"
      ],
      "execution_count": 0,
      "outputs": [
        {
          "output_type": "stream",
          "text": [
            "Train on 1557 samples, validate on 668 samples\n",
            "Epoch 1/50\n",
            "1557/1557 - 4s - loss: 1.7322 - acc: 0.2254 - val_loss: 1.6535 - val_acc: 0.2380\n",
            "Epoch 2/50\n",
            "1557/1557 - 3s - loss: 1.6232 - acc: 0.2396 - val_loss: 1.6098 - val_acc: 0.2365\n",
            "Epoch 3/50\n",
            "1557/1557 - 3s - loss: 1.5790 - acc: 0.3109 - val_loss: 1.5434 - val_acc: 0.3488\n",
            "Epoch 4/50\n",
            "1557/1557 - 3s - loss: 1.3746 - acc: 0.4027 - val_loss: 1.3019 - val_acc: 0.3952\n",
            "Epoch 5/50\n",
            "1557/1557 - 3s - loss: 1.1883 - acc: 0.4412 - val_loss: 1.3062 - val_acc: 0.4057\n",
            "Epoch 6/50\n",
            "1557/1557 - 3s - loss: 1.1126 - acc: 0.4894 - val_loss: 1.4616 - val_acc: 0.3383\n",
            "Epoch 7/50\n",
            "1557/1557 - 3s - loss: 1.0580 - acc: 0.4990 - val_loss: 1.1689 - val_acc: 0.4551\n",
            "Epoch 8/50\n",
            "1557/1557 - 3s - loss: 0.9861 - acc: 0.4920 - val_loss: 1.1524 - val_acc: 0.4611\n",
            "Epoch 9/50\n",
            "1557/1557 - 3s - loss: 0.9564 - acc: 0.5401 - val_loss: 1.1509 - val_acc: 0.4386\n",
            "Epoch 10/50\n",
            "1557/1557 - 3s - loss: 0.9355 - acc: 0.5568 - val_loss: 1.2216 - val_acc: 0.4326\n",
            "Epoch 11/50\n",
            "1557/1557 - 3s - loss: 0.9315 - acc: 0.5793 - val_loss: 1.2710 - val_acc: 0.4386\n",
            "Epoch 12/50\n",
            "1557/1557 - 3s - loss: 0.8870 - acc: 0.6294 - val_loss: 1.1812 - val_acc: 0.5105\n",
            "Epoch 13/50\n",
            "1557/1557 - 3s - loss: 0.9142 - acc: 0.6281 - val_loss: 1.1079 - val_acc: 0.5180\n",
            "Epoch 14/50\n",
            "1557/1557 - 3s - loss: 0.7793 - acc: 0.7155 - val_loss: 1.0830 - val_acc: 0.5778\n",
            "Epoch 15/50\n",
            "1557/1557 - 3s - loss: 0.7078 - acc: 0.7675 - val_loss: 1.0478 - val_acc: 0.6063\n",
            "Epoch 16/50\n",
            "1557/1557 - 3s - loss: 0.6413 - acc: 0.8060 - val_loss: 1.0098 - val_acc: 0.6482\n",
            "Epoch 17/50\n",
            "1557/1557 - 3s - loss: 0.5706 - acc: 0.8382 - val_loss: 0.9677 - val_acc: 0.6692\n",
            "Epoch 18/50\n",
            "1557/1557 - 3s - loss: 0.4777 - acc: 0.8593 - val_loss: 0.9892 - val_acc: 0.6647\n",
            "Epoch 19/50\n",
            "1557/1557 - 3s - loss: 0.4075 - acc: 0.8645 - val_loss: 0.9467 - val_acc: 0.6796\n",
            "Epoch 20/50\n",
            "1557/1557 - 3s - loss: 0.3517 - acc: 0.8882 - val_loss: 0.9378 - val_acc: 0.7051\n",
            "Epoch 21/50\n",
            "1557/1557 - 3s - loss: 0.2936 - acc: 0.9146 - val_loss: 0.9068 - val_acc: 0.7201\n",
            "Epoch 22/50\n",
            "1557/1557 - 3s - loss: 0.2535 - acc: 0.9223 - val_loss: 0.9658 - val_acc: 0.7275\n",
            "Epoch 23/50\n",
            "1557/1557 - 3s - loss: 0.2206 - acc: 0.9428 - val_loss: 1.0141 - val_acc: 0.7096\n",
            "Epoch 24/50\n",
            "1557/1557 - 3s - loss: 0.1988 - acc: 0.9493 - val_loss: 0.9708 - val_acc: 0.7246\n",
            "Epoch 25/50\n",
            "1557/1557 - 3s - loss: 0.1755 - acc: 0.9576 - val_loss: 1.0366 - val_acc: 0.7156\n",
            "Epoch 26/50\n",
            "1557/1557 - 3s - loss: 0.1482 - acc: 0.9692 - val_loss: 0.9990 - val_acc: 0.7440\n",
            "Epoch 27/50\n",
            "1557/1557 - 3s - loss: 0.1172 - acc: 0.9788 - val_loss: 1.1049 - val_acc: 0.7410\n",
            "Epoch 28/50\n",
            "1557/1557 - 3s - loss: 0.1261 - acc: 0.9711 - val_loss: 0.9632 - val_acc: 0.7515\n",
            "Epoch 29/50\n",
            "1557/1557 - 3s - loss: 0.1329 - acc: 0.9653 - val_loss: 0.9591 - val_acc: 0.7455\n",
            "Epoch 30/50\n",
            "1557/1557 - 3s - loss: 0.1021 - acc: 0.9743 - val_loss: 1.1058 - val_acc: 0.7425\n",
            "Epoch 31/50\n",
            "1557/1557 - 3s - loss: 0.0766 - acc: 0.9852 - val_loss: 1.1078 - val_acc: 0.7605\n",
            "Epoch 32/50\n",
            "1557/1557 - 3s - loss: 0.0703 - acc: 0.9846 - val_loss: 1.0288 - val_acc: 0.7560\n",
            "Epoch 33/50\n",
            "1557/1557 - 3s - loss: 0.0449 - acc: 0.9949 - val_loss: 1.1413 - val_acc: 0.7605\n",
            "Epoch 34/50\n",
            "1557/1557 - 3s - loss: 0.0356 - acc: 0.9961 - val_loss: 1.0725 - val_acc: 0.7814\n",
            "Epoch 35/50\n",
            "1557/1557 - 3s - loss: 0.0582 - acc: 0.9820 - val_loss: 1.1247 - val_acc: 0.7740\n",
            "Epoch 36/50\n",
            "1557/1557 - 3s - loss: 0.0436 - acc: 0.9910 - val_loss: 1.1615 - val_acc: 0.7620\n",
            "Epoch 37/50\n",
            "1557/1557 - 3s - loss: 0.0315 - acc: 0.9955 - val_loss: 1.1371 - val_acc: 0.7769\n",
            "Epoch 38/50\n",
            "1557/1557 - 3s - loss: 0.0395 - acc: 0.9923 - val_loss: 1.2706 - val_acc: 0.7710\n",
            "Epoch 39/50\n",
            "1557/1557 - 3s - loss: 0.0383 - acc: 0.9910 - val_loss: 1.1746 - val_acc: 0.7695\n",
            "Epoch 40/50\n",
            "1557/1557 - 3s - loss: 0.0191 - acc: 0.9981 - val_loss: 1.1949 - val_acc: 0.7725\n",
            "Epoch 41/50\n",
            "1557/1557 - 3s - loss: 0.0173 - acc: 0.9987 - val_loss: 1.1716 - val_acc: 0.7829\n",
            "Epoch 42/50\n",
            "1557/1557 - 3s - loss: 0.0140 - acc: 0.9987 - val_loss: 1.2135 - val_acc: 0.7799\n",
            "Epoch 43/50\n",
            "1557/1557 - 3s - loss: 0.0125 - acc: 0.9987 - val_loss: 1.2349 - val_acc: 0.7799\n",
            "Epoch 44/50\n",
            "1557/1557 - 3s - loss: 0.0111 - acc: 0.9987 - val_loss: 1.2488 - val_acc: 0.7844\n",
            "Epoch 45/50\n",
            "1557/1557 - 3s - loss: 0.0099 - acc: 0.9987 - val_loss: 1.2751 - val_acc: 0.7859\n",
            "Epoch 46/50\n",
            "1557/1557 - 3s - loss: 0.0093 - acc: 0.9987 - val_loss: 1.2716 - val_acc: 0.7799\n",
            "Epoch 47/50\n",
            "1557/1557 - 3s - loss: 0.0077 - acc: 0.9987 - val_loss: 1.2947 - val_acc: 0.7844\n",
            "Epoch 48/50\n",
            "1557/1557 - 3s - loss: 0.0065 - acc: 0.9994 - val_loss: 1.2989 - val_acc: 0.7889\n",
            "Epoch 49/50\n",
            "1557/1557 - 3s - loss: 0.0057 - acc: 0.9994 - val_loss: 1.3364 - val_acc: 0.7919\n",
            "Epoch 50/50\n",
            "1557/1557 - 3s - loss: 0.0052 - acc: 0.9994 - val_loss: 1.3372 - val_acc: 0.7964\n",
            "Training Complete\n"
          ],
          "name": "stdout"
        }
      ]
    },
    {
      "cell_type": "markdown",
      "metadata": {
        "id": "Ur-uCGAGaWGI",
        "colab_type": "text"
      },
      "source": [
        ""
      ]
    },
    {
      "cell_type": "code",
      "metadata": {
        "id": "sHQiAILfCiSp",
        "colab_type": "code",
        "outputId": "b6ee386b-cffb-49aa-9153-9fc3d86b0c9c",
        "colab": {
          "base_uri": "https://localhost:8080/",
          "height": 549
        }
      },
      "source": [
        "import matplotlib.pyplot as plt\n",
        "\n",
        "def plot_graphs(history, string):\n",
        "  plt.plot(history.history[string])\n",
        "  plt.plot(history.history['val_'+string])\n",
        "  plt.xlabel(\"Epochs\")\n",
        "  plt.ylabel(string)\n",
        "  plt.legend([string, 'val_'+string])\n",
        "  plt.show()\n",
        "  \n",
        "plot_graphs(history, \"acc\")\n",
        "plot_graphs(history, \"loss\")"
      ],
      "execution_count": 0,
      "outputs": [
        {
          "output_type": "display_data",
          "data": {
            "image/png": "[encoded data removed]",
            "text/plain": [
              "<Figure size 432x288 with 1 Axes>"
            ]
          },
          "metadata": {
            "tags": []
          }
        },
        {
          "output_type": "display_data",
          "data": {
            "image/png": "[encoded data removed]",
            "text/plain": [
              "<Figure size 432x288 with 1 Axes>"
            ]
          },
          "metadata": {
            "tags": []
          }
        }
      ]
    }
  ]
}